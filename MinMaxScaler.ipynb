{
 "cells": [
  {
   "cell_type": "code",
   "execution_count": 1,
   "id": "143fb79c",
   "metadata": {},
   "outputs": [],
   "source": [
    "import numpy as np\n",
    "import matplotlib.pyplot as plt\n",
    "%matplotlib inline\n",
    "from sklearn.preprocessing import MinMaxScaler\n",
    "from sklearn.cluster import DBSCAN"
   ]
  },
  {
   "cell_type": "markdown",
   "id": "778bbb73",
   "metadata": {},
   "source": [
    "MinMaxScaler transform features by scaling each feature to a given range.\n",
    "\n",
    "This estimator scales and translates each feature individually such that it is in the given range on the training set, e.g. between zero and one.\n",
    "\n",
    "The transformation is given by:\n",
    "\n",
    "X_std = (X - X.min(axis=0)) / (X.max(axis=0) - X.min(axis=0))\n",
    "X_scaled = X_std * (max - min) + min\n",
    "where min, max = feature_range.\n",
    "\n",
    "This transformation is often used as an alternative to zero mean, unit variance scaling."
   ]
  },
  {
   "cell_type": "markdown",
   "id": "399e6568",
   "metadata": {},
   "source": [
    "MinMaxScaler doesn’t reduce the effect of outliers, but it linearily scales them down into a fixed range, where the largest occuring data point corresponds to the maximum value and the smallest one corresponds to the minimum value."
   ]
  },
  {
   "cell_type": "code",
   "execution_count": 2,
   "id": "7bfb145a",
   "metadata": {},
   "outputs": [
    {
     "data": {
      "text/plain": [
       "array([[5, 7],\n",
       "       [8, 4],\n",
       "       [3, 3],\n",
       "       [4, 4],\n",
       "       [3, 7],\n",
       "       [6, 7],\n",
       "       [6, 1],\n",
       "       [5, 5]])"
      ]
     },
     "execution_count": 2,
     "metadata": {},
     "output_type": "execute_result"
    }
   ],
   "source": [
    "X = np.array([[5,7],[8,4],[3,3],[4,4],[3,7],[6,7],[6,1],[5,5]])\n",
    "X"
   ]
  },
  {
   "cell_type": "code",
   "execution_count": 3,
   "id": "563c589e",
   "metadata": {},
   "outputs": [],
   "source": [
    "scaler = MinMaxScaler()"
   ]
  },
  {
   "cell_type": "code",
   "execution_count": 4,
   "id": "4aa728f6",
   "metadata": {},
   "outputs": [
    {
     "data": {
      "text/plain": [
       "array([[0.4       , 1.        ],\n",
       "       [1.        , 0.5       ],\n",
       "       [0.        , 0.33333333],\n",
       "       [0.2       , 0.5       ],\n",
       "       [0.        , 1.        ],\n",
       "       [0.6       , 1.        ],\n",
       "       [0.6       , 0.        ],\n",
       "       [0.4       , 0.66666667]])"
      ]
     },
     "execution_count": 4,
     "metadata": {},
     "output_type": "execute_result"
    }
   ],
   "source": [
    "scaled_X = scaler.fit_transform(X)\n",
    "scaled_X"
   ]
  },
  {
   "cell_type": "code",
   "execution_count": 5,
   "id": "5a256daf",
   "metadata": {},
   "outputs": [
    {
     "data": {
      "text/plain": [
       "array([0], dtype=int64)"
      ]
     },
     "execution_count": 5,
     "metadata": {},
     "output_type": "execute_result"
    }
   ],
   "source": [
    "dbscan = DBSCAN(eps=3.5, min_samples=3)\n",
    "cluster_labels = dbscan.fit_predict(scaled_X)\n",
    "np.unique(cluster_labels)"
   ]
  },
  {
   "cell_type": "code",
   "execution_count": 6,
   "id": "c52e6d4a",
   "metadata": {},
   "outputs": [
    {
     "data": {
      "image/png": "[encoded data removed]",
      "text/plain": [
       "<Figure size 432x288 with 1 Axes>"
      ]
     },
     "metadata": {
      "needs_background": "light"
     },
     "output_type": "display_data"
    }
   ],
   "source": [
    "plt.scatter(scaled_X[:, 0], scaled_X[:, 1], c=cluster_labels,cmap='viridis', edgecolors='k')\n",
    "plt.title('DBSCAN Clustering')\n",
    "plt.xlabel('Feature 1 (Standardized)')\n",
    "plt.ylabel('Feature 2 (Standardized)')\n",
    "plt.show()"
   ]
  },
  {
   "cell_type": "code",
   "execution_count": null,
   "id": "a725c813",
   "metadata": {},
   "outputs": [],
   "source": []
  }
 ],
 "metadata": {
  "kernelspec": {
   "display_name": "Python 3 (ipykernel)",
   "language": "python",
   "name": "python3"
  },
  "language_info": {
   "codemirror_mode": {
    "name": "ipython",
    "version": 3
   },
   "file_extension": ".py",
   "mimetype": "text/x-python",
   "name": "python",
   "nbconvert_exporter": "python",
   "pygments_lexer": "ipython3",
   "version": "3.10.4"
  }
 },
 "nbformat": 4,
 "nbformat_minor": 5
}
