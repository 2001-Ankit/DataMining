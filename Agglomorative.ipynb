{
 "cells": [
  {
   "cell_type": "code",
   "execution_count": 1,
   "id": "32dd866b",
   "metadata": {},
   "outputs": [],
   "source": [
    "import numpy as np\n",
    "from scipy.cluster.hierarchy import dendrogram, linkage\n",
    "import matplotlib.pyplot as plt\n",
    "%matplotlib inline\n"
   ]
  },
  {
   "cell_type": "markdown",
   "id": "bbac3e49",
   "metadata": {},
   "source": [
    "Linkage : Linkage refers to the method used to calculate the distance between clusters.\n",
    "Common linkage methods include:\n",
    "\n",
    "Single Linkage: The distance between two clusters is the shortest distance between any two points in the clusters.\n",
    "\n",
    "Complete Linkage: The distance between two clusters is the maximum distance between any two points in the clusters.\n",
    "\n",
    "Average Linkage: The distance between two clusters is the average distance between all pairs of points in the clusters.\n",
    "\n",
    "Ward's Linkage: Minimizes the variance within each cluster. It is a method for variance minimization."
   ]
  },
  {
   "cell_type": "markdown",
   "id": "1b1e30c1",
   "metadata": {},
   "source": [
    "Dendogram : A dendrogram is a tree-like diagram used to represent the hierarchical structure of clusters in hierarchical clustering. \n",
    "It visually shows how individual data points or clusters are grouped together based on their similarities. "
   ]
  },
  {
   "cell_type": "code",
   "execution_count": 2,
   "id": "7f9ea72c",
   "metadata": {},
   "outputs": [],
   "source": [
    "X = np.array([[2, 10], [2, 5], [8, 4],[5, 8], [7, 5], [6, 4]])"
   ]
  },
  {
   "cell_type": "code",
   "execution_count": 5,
   "id": "c64fc310",
   "metadata": {},
   "outputs": [],
   "source": [
    "Z = linkage(X, 'ward',metric='euclidean')\n"
   ]
  },
  {
   "cell_type": "code",
   "execution_count": 6,
   "id": "489911b5",
   "metadata": {},
   "outputs": [
    {
     "data": {
      "image/png": "[encoded data removed]",
      "text/plain": [
       "<Figure size 576x432 with 1 Axes>"
      ]
     },
     "metadata": {
      "needs_background": "light"
     },
     "output_type": "display_data"
    }
   ],
   "source": [
    "# Plot dendrogram\n",
    "plt.figure(figsize=(8,6))\n",
    "dendrogram(Z)\n",
    "plt.title('Hierarchical Clustering Dendrogram')\n",
    "plt.xlabel('Data point')\n",
    "plt.ylabel('Distance')\n",
    "plt.show()\n"
   ]
  },
  {
   "cell_type": "code",
   "execution_count": null,
   "id": "d28dedfd",
   "metadata": {},
   "outputs": [],
   "source": []
  }
 ],
 "metadata": {
  "kernelspec": {
   "display_name": "Python 3 (ipykernel)",
   "language": "python",
   "name": "python3"
  },
  "language_info": {
   "codemirror_mode": {
    "name": "ipython",
    "version": 3
   },
   "file_extension": ".py",
   "mimetype": "text/x-python",
   "name": "python",
   "nbconvert_exporter": "python",
   "pygments_lexer": "ipython3",
   "version": "3.10.4"
  }
 },
 "nbformat": 4,
 "nbformat_minor": 5
}
