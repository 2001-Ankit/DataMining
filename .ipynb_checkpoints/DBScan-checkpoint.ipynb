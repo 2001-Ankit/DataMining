{
 "cells": [
  {
   "cell_type": "code",
   "execution_count": 1,
   "id": "42c93b86",
   "metadata": {},
   "outputs": [],
   "source": [
    "import numpy as np\n",
    "import matplotlib.pyplot as plt\n",
    "%matplotlib inline\n",
    "from sklearn.cluster import DBSCAN"
   ]
  },
  {
   "cell_type": "code",
   "execution_count": 2,
   "id": "4b228928",
   "metadata": {},
   "outputs": [],
   "source": [
    "X = np.array([[5,7],[8,4],[3,3],[4,4],[3,7],[6,7],[6,1],[5,5]])"
   ]
  },
  {
   "cell_type": "code",
   "execution_count": 3,
   "id": "8ef8ed78",
   "metadata": {},
   "outputs": [
    {
     "data": {
      "text/plain": [
       "array([-1,  0], dtype=int64)"
      ]
     },
     "execution_count": 3,
     "metadata": {},
     "output_type": "execute_result"
    }
   ],
   "source": [
    "# Applying DBSCAN\n",
    "dbscan = DBSCAN(eps=3.5, min_samples=3)\n",
    "cluster_labels = dbscan.fit_predict(X)\n",
    "np.unique(cluster_labels)"
   ]
  },
  {
   "cell_type": "code",
   "execution_count": 4,
   "id": "ff8f1aa6",
   "metadata": {},
   "outputs": [
    {
     "data": {
      "image/png": "[encoded data removed]",
      "text/plain": [
       "<Figure size 432x288 with 1 Axes>"
      ]
     },
     "metadata": {
      "needs_background": "light"
     },
     "output_type": "display_data"
    }
   ],
   "source": [
    "# Plotting the results\n",
    "plt.scatter(X[:, 0], X[:, 1], c=cluster_labels, edgecolors='k')\n",
    "plt.title('DBSCAN Clustering')\n",
    "plt.show()"
   ]
  },
  {
   "cell_type": "code",
   "execution_count": 6,
   "id": "7caf6f1a",
   "metadata": {},
   "outputs": [
    {
     "name": "stdout",
     "output_type": "stream",
     "text": [
      "Core Points:\n",
      "[5 7]\n",
      "[3 3]\n",
      "[4 4]\n",
      "[3 7]\n",
      "[6 7]\n",
      "[5 5]\n"
     ]
    }
   ],
   "source": [
    "#Print core points \n",
    "print('Core Points:')\n",
    "for i in dbscan.core_sample_indices_:\n",
    "    print(X[i])\n",
    "    "
   ]
  },
  {
   "cell_type": "code",
   "execution_count": 8,
   "id": "65b00d3e",
   "metadata": {},
   "outputs": [
    {
     "name": "stdout",
     "output_type": "stream",
     "text": [
      "Boundary Point\n",
      "[8 4]\n"
     ]
    }
   ],
   "source": [
    "#Print boundary point\n",
    "print('Boundary Point')\n",
    "for i in range(len(cluster_labels)):\n",
    "    if cluster_labels[i] != -1 and i not in dbscan.core_sample_indices_:\n",
    "        print(X[i])"
   ]
  },
  {
   "cell_type": "code",
   "execution_count": 9,
   "id": "c8e73120",
   "metadata": {},
   "outputs": [
    {
     "name": "stdout",
     "output_type": "stream",
     "text": [
      "Outlier\n",
      "[6 1]\n"
     ]
    }
   ],
   "source": [
    "#Print outlier\n",
    "print('Outlier')\n",
    "for i in range(len(cluster_labels)):\n",
    "    if cluster_labels[i]== -1:\n",
    "        print(X[i])\n",
    "        "
   ]
  },
  {
   "cell_type": "code",
   "execution_count": null,
   "id": "e011afe7",
   "metadata": {},
   "outputs": [],
   "source": []
  }
 ],
 "metadata": {
  "kernelspec": {
   "display_name": "Python 3 (ipykernel)",
   "language": "python",
   "name": "python3"
  },
  "language_info": {
   "codemirror_mode": {
    "name": "ipython",
    "version": 3
   },
   "file_extension": ".py",
   "mimetype": "text/x-python",
   "name": "python",
   "nbconvert_exporter": "python",
   "pygments_lexer": "ipython3",
   "version": "3.10.4"
  }
 },
 "nbformat": 4,
 "nbformat_minor": 5
}
