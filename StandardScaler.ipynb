{
 "cells": [
  {
   "cell_type": "code",
   "execution_count": 1,
   "id": "290674a4",
   "metadata": {},
   "outputs": [],
   "source": [
    "import numpy as np\n",
    "from sklearn.preprocessing import StandardScaler\n",
    "import matplotlib.pyplot as plt\n",
    "from sklearn.cluster import DBSCAN"
   ]
  },
  {
   "cell_type": "markdown",
   "id": "13b04f76",
   "metadata": {},
   "source": [
    "Standardize features by removing the mean and scaling to unit variance.\n",
    "\n",
    "The standard score of a sample x is calculated as:\n",
    "\n",
    "z = (x - u) / s\n",
    "\n",
    "where u is the mean of the training samples or zero if with_mean=False, and s is the standard deviation of the training samples or one if with_std=False.\n",
    "\n",
    "Centering and scaling happen independently on each feature by computing the relevant statistics on the samples in the training set. Mean and standard deviation are then stored to be used on later data using transform.\n",
    "\n",
    "Standardization of a dataset is a common requirement for many machine learning estimators: they might behave badly if the individual features do not more or less look like standard normally distributed data (e.g. Gaussian with 0 mean and unit variance)."
   ]
  },
  {
   "cell_type": "markdown",
   "id": "33b43259",
   "metadata": {},
   "source": [
    "StandardScaler is sensitive to outliers, and the features may scale differently from each other in the presence of outlier.\n"
   ]
  },
  {
   "cell_type": "code",
   "execution_count": 2,
   "id": "d9dbf9f4",
   "metadata": {},
   "outputs": [],
   "source": [
    "X = np.array([[5,7],[8,4],[3,3],[4,4],[3,7],[6,7],[6,1],[5,5]])"
   ]
  },
  {
   "cell_type": "code",
   "execution_count": 3,
   "id": "0baa9727",
   "metadata": {},
   "outputs": [],
   "source": [
    "scaler = StandardScaler()"
   ]
  },
  {
   "cell_type": "code",
   "execution_count": 8,
   "id": "9ac02a21",
   "metadata": {},
   "outputs": [],
   "source": [
    "scaled_X = scaler.fit_transform(X)"
   ]
  },
  {
   "cell_type": "code",
   "execution_count": 5,
   "id": "2f96a69e",
   "metadata": {},
   "outputs": [
    {
     "name": "stdout",
     "output_type": "stream",
     "text": [
      "Original Data:\n",
      " [[5 7]\n",
      " [8 4]\n",
      " [3 3]\n",
      " [4 4]\n",
      " [3 7]\n",
      " [6 7]\n",
      " [6 1]\n",
      " [5 5]]\n"
     ]
    }
   ],
   "source": [
    "print(\"Original Data:\\n\", X)\n"
   ]
  },
  {
   "cell_type": "code",
   "execution_count": 12,
   "id": "c51012f6",
   "metadata": {},
   "outputs": [
    {
     "name": "stdout",
     "output_type": "stream",
     "text": [
      "\n",
      "Scaled Data:\n",
      " [[ 0.          1.099525  ]\n",
      " [ 1.8973666  -0.36650833]\n",
      " [-1.26491106 -0.85518611]\n",
      " [-0.63245553 -0.36650833]\n",
      " [-1.26491106  1.099525  ]\n",
      " [ 0.63245553  1.099525  ]\n",
      " [ 0.63245553 -1.83254167]\n",
      " [ 0.          0.12216944]]\n"
     ]
    }
   ],
   "source": [
    "print(\"\\nScaled Data:\\n\", scaled_X)"
   ]
  },
  {
   "cell_type": "code",
   "execution_count": 13,
   "id": "2a153041",
   "metadata": {},
   "outputs": [
    {
     "data": {
      "image/png": "[encoded data removed]",
      "text/plain": [
       "<Figure size 432x288 with 1 Axes>"
      ]
     },
     "metadata": {
      "needs_background": "light"
     },
     "output_type": "display_data"
    }
   ],
   "source": [
    "# Applying DBSCAN on the scaled data\n",
    "dbscan = DBSCAN(eps=0.5, min_samples=3)\n",
    "cluster_labels = dbscan.fit_predict(scaled_X)\n",
    "\n",
    "# Plotting the results\n",
    "plt.scatter(scaled_X[:, 0], scaled_X[:, 1], c=cluster_labels,cmap='viridis', edgecolors='k')\n",
    "plt.title('DBSCAN Clustering')\n",
    "plt.xlabel('Feature 1 (Standardized)')\n",
    "plt.ylabel('Feature 2 (Standardized)')\n",
    "plt.show()"
   ]
  },
  {
   "cell_type": "code",
   "execution_count": null,
   "id": "28710a94",
   "metadata": {},
   "outputs": [],
   "source": []
  }
 ],
 "metadata": {
  "kernelspec": {
   "display_name": "Python 3 (ipykernel)",
   "language": "python",
   "name": "python3"
  },
  "language_info": {
   "codemirror_mode": {
    "name": "ipython",
    "version": 3
   },
   "file_extension": ".py",
   "mimetype": "text/x-python",
   "name": "python",
   "nbconvert_exporter": "python",
   "pygments_lexer": "ipython3",
   "version": "3.10.4"
  }
 },
 "nbformat": 4,
 "nbformat_minor": 5
}
